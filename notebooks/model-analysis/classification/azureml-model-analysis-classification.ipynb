{
 "cells": [
  {
   "cell_type": "markdown",
   "id": "28a4771f",
   "metadata": {},
   "source": [
    "Copyright (c) Microsoft Corporation. All rights reserved.\n",
    "\n",
    "Licensed under the MIT License."
   ]
  },
  {
   "cell_type": "markdown",
   "id": "944e7a45",
   "metadata": {},
   "source": [
    "![Impressions](https://PixelServer20190423114238.azurewebsites.net/api/impressions/MachineLearningNotebooks/how-to-use-azureml/responsible-ai/model-analysis/classification/azureml-model-analysis-classification.png)"
   ]
  },
  {
   "cell_type": "markdown",
   "id": "b21835b6",
   "metadata": {},
   "source": [
    "# Model analysis for binary classification scenarios\n",
    "**This notebook will demonstrate on how to compute Responsible AI insights like explanations, counterfactual examples, causal effects and error analysis on remote compute for a binary classification model.**\n",
    "\n",
    "## Contents\n",
    "1. [Prerequisites](#Prerequisites)\n",
    "1. [Dataset](#Dataset)\n",
    "1. [Create or attach existing AmlCompute cluster](#AmlCompute)\n",
    "1. [Train model on remote compute](#Train)\n",
    "1. [Generate RAI insights](#Generate)\n",
    "1. [Responsible AI dashboard](#Dashboard)"
   ]
  },
  {
   "cell_type": "markdown",
   "id": "49e76f07",
   "metadata": {},
   "source": [
    "# Prerequisites\n",
    "## Install azureml-responsibleai \n",
    "Please make sure that you have the latest pypi version of `azureml-responsibleai` installed in you environment. Otherwise you can execute `pip install --upgrade azureml-responsibleai` before running this notebook."
   ]
  },
  {
   "cell_type": "code",
   "execution_count": null,
   "id": "b00feff7",
   "metadata": {},
   "outputs": [],
   "source": [
    "# !pip install --upgrade azureml-responsibleai\n",
    "# !pip install liac-arff"
   ]
  },
  {
   "cell_type": "code",
   "execution_count": null,
   "id": "1fe02c65",
   "metadata": {},
   "outputs": [],
   "source": [
    "from responsibleai import ModelAnalysis\n",
    "\n",
    "import azureml.core\n",
    "from azureml.core import Experiment, Run, Workspace\n",
    "\n",
    "from azureml.responsibleai.common.pickle_model_loader import PickleModelLoader\n",
    "from azureml.responsibleai.tools.model_analysis.model_analysis_config import ModelAnalysisConfig\n",
    "from azureml.responsibleai.tools.model_analysis.model_analysis_run import ModelAnalysisRun\n",
    "from azureml.responsibleai.tools.model_analysis.explain_config import ExplainConfig"
   ]
  },
  {
   "cell_type": "markdown",
   "id": "02061120",
   "metadata": {},
   "source": [
    "This sample notebook may use features that are not available in previous versions of the Azure ML SDK."
   ]
  },
  {
   "cell_type": "code",
   "execution_count": null,
   "id": "979cf06f",
   "metadata": {},
   "outputs": [],
   "source": [
    "print(\"This notebook was created using version AZUREML-SDK-VERSION of the Azure ML SDK\")\n",
    "print(\"You are currently using version\", azureml.core.VERSION, \"of the Azure ML SDK\")"
   ]
  },
  {
   "cell_type": "markdown",
   "id": "fd4a560b",
   "metadata": {},
   "source": [
    "## Link an AzureML workspace\n",
    "\n",
    "To use this notebook, an Azure Machine Learning workspace is required.\n",
    "Please see the [configuration notebook](../../configuration.ipynb) for information about creating one, if required."
   ]
  },
  {
   "cell_type": "code",
   "execution_count": null,
   "id": "d95638f8",
   "metadata": {},
   "outputs": [],
   "source": [
    "user_workspace = Workspace.from_config()\n",
    "print('Workspace name: ' + user_workspace.name, \n",
    "      'Azure region: ' + user_workspace.location, \n",
    "      'Subscription id: ' + user_workspace.subscription_id, \n",
    "      'Resource group: ' + user_workspace.resource_group, sep = '\\n')"
   ]
  },
  {
   "cell_type": "markdown",
   "id": "d4b94fee",
   "metadata": {},
   "source": [
    "# Dataset\n",
    "This notebook uses the Adult Census dataset, which can be used to solve a binary classification task: given demographic data on about 32,000 individuals, predict whether a person's annual income is above or below fifty thousand dollars per year. We consider records having income > 50K in category \"1\" while recrods having income <= 50K in category \"0\"."
   ]
  },
  {
   "cell_type": "code",
   "execution_count": null,
   "id": "d5f4ab3a",
   "metadata": {},
   "outputs": [],
   "source": [
    "from utilities import fetch_census_dataset\n",
    "\n",
    "dataset = fetch_census_dataset()\n",
    "data, y = dataset['data'], dataset['target']\n",
    "label_name = 'income'\n",
    "data[label_name] = y\n",
    "data = data.replace({label_name: {'<=50K': 0, '>50K': 1}})"
   ]
  },
  {
   "cell_type": "code",
   "execution_count": null,
   "id": "29ceed3e",
   "metadata": {},
   "outputs": [],
   "source": [
    "data.head(5)"
   ]
  },
  {
   "cell_type": "markdown",
   "id": "9d69e553",
   "metadata": {},
   "source": [
    "## Prepare the datasets for training and evaluation\n",
    "Split the dataset into train and test datasets. The features **age**, **hours-per-week**, **fnlwgt**, **education-num**, **capital-gain** and **capital-loss** are treated as continuous features while rest are treated as categorical features."
   ]
  },
  {
   "cell_type": "code",
   "execution_count": null,
   "id": "bacb2e1b",
   "metadata": {},
   "outputs": [],
   "source": [
    "from sklearn.model_selection import train_test_split\n",
    "# Create train and test datasets\n",
    "data_train, data_test = train_test_split(data, test_size=0.001)\n",
    "\n",
    "# Separate the training data and the label column\n",
    "x_train = data_train.drop(label_name, axis=1)\n",
    "y_train = data_train[label_name].values\n",
    "\n",
    "# Separate the test data and the label column\n",
    "x_test = data_test.drop(label_name, axis=1)\n",
    "y_test = data_test[label_name].values\n",
    "print(x_test.shape)\n",
    "\n",
    "# Create lists of categorical and continuous (numerical) features\n",
    "continuous_features = ['age', 'hours-per-week', 'fnlwgt', 'education-num',\n",
    "                       'capital-gain', 'capital-loss']\n",
    "categorical_features = x_train.columns.difference(continuous_features).tolist()\n",
    "\n",
    "# feature names comprises of both categorical and continuous_features\n",
    "feature_names = list(x_train.columns)"
   ]
  },
  {
   "cell_type": "markdown",
   "id": "1e2ea5a7",
   "metadata": {},
   "source": [
    "## Upload the train and test dataset to datastore\n",
    "In the cell below, we upload the train and test datasets to the default datastore and register the train data and test data as azureml datasets."
   ]
  },
  {
   "cell_type": "code",
   "execution_count": null,
   "id": "68882448",
   "metadata": {},
   "outputs": [],
   "source": [
    "from azureml.core import Dataset\n",
    "datastore = user_workspace.get_default_datastore()\n",
    "\n",
    "# Upload train data to datastore\n",
    "train_name = 'adult_train'\n",
    "train_datastore_path = (datastore, train_name)\n",
    "train_dataset = Dataset.Tabular.register_pandas_dataframe(\n",
    "    data_train, train_datastore_path, train_name)\n",
    "\n",
    "\n",
    "# Upload test data to datastore\n",
    "test_name = 'adult_test'\n",
    "test_datastore_path = (datastore, test_name)\n",
    "test_dataset = Dataset.Tabular.register_pandas_dataframe(\n",
    "    data_test, test_datastore_path, test_name)"
   ]
  },
  {
   "cell_type": "markdown",
   "id": "86ad530c",
   "metadata": {},
   "source": [
    "# Create or attach existing AmlCompute cluster\n",
    "\n",
    "You will need to create a [compute target](https://docs.microsoft.com/azure/machine-learning/service/concept-azure-machine-learning-architecture#compute-target) for training your model and computing RAI insights for the trained model. In this tutorial, you create `AmlCompute` as your training compute resource.\n",
    "\n",
    "> Note that if you have an AzureML Data Scientist role, you will not have permission to create compute resources. Talk to your workspace or IT admin to create the compute targets described in this section, if they do not already exist.\n",
    "\n",
    "**Creation of AmlCompute takes approximately 5 minutes.** If the AmlCompute with that name is already in your workspace this code will skip the creation process.\n",
    "\n",
    "As with other Azure services, there are limits on certain resources (e.g. AmlCompute) associated with the Azure Machine Learning service. Please read [this article](https://docs.microsoft.com/en-us/azure/machine-learning/service/how-to-manage-quotas) on the default limits and how to request more quota."
   ]
  },
  {
   "cell_type": "code",
   "execution_count": null,
   "id": "006c0fdc",
   "metadata": {},
   "outputs": [],
   "source": [
    "from azureml.core.compute import ComputeTarget, AmlCompute\n",
    "from azureml.core.compute_target import ComputeTargetException\n",
    "\n",
    "# Choose a name for your CPU cluster\n",
    "cpu_cluster_name = \"rai-cluster\"\n",
    "\n",
    "# Verify that cluster does not exist already\n",
    "try:\n",
    "    compute_target = ComputeTarget(workspace=user_workspace, name=cpu_cluster_name)\n",
    "    print('Found existing cluster, use it.')\n",
    "except ComputeTargetException:\n",
    "    compute_config = AmlCompute.provisioning_configuration(vm_size='STANDARD_DS12_V2',\n",
    "                                                           max_nodes=6)\n",
    "    compute_target = ComputeTarget.create(user_workspace, cpu_cluster_name, compute_config)\n",
    "\n",
    "compute_target.wait_for_completion(show_output=True)"
   ]
  },
  {
   "cell_type": "markdown",
   "id": "8aff5758",
   "metadata": {},
   "source": [
    "# Train model on remote compute\n",
    "In this section, we train a simple classification model on the remote compute.\n",
    "\n",
    "Add `azureml-responsibleai` as a pip dependency in the run configuration."
   ]
  },
  {
   "cell_type": "code",
   "execution_count": null,
   "id": "2a712f33",
   "metadata": {},
   "outputs": [],
   "source": [
    "from azureml.core import RunConfiguration\n",
    "from azureml.core.conda_dependencies import CondaDependencies\n",
    "\n",
    "run_config = RunConfiguration(framework=\"python\")\n",
    "\n",
    "conda_dependencies = CondaDependencies.create()\n",
    "run_config.environment.python.conda_dependencies = conda_dependencies\n",
    "run_config.environment.python.conda_dependencies.add_pip_package(\"azureml-responsibleai=={}\".format(azureml.core.VERSION))\n",
    "run_config.target = compute_target\n",
    "run_config"
   ]
  },
  {
   "cell_type": "markdown",
   "id": "325b79bd",
   "metadata": {},
   "source": [
    "Copy the train script into the script directory. This train script will be used to train the model and register the model on remote compute.  "
   ]
  },
  {
   "cell_type": "code",
   "execution_count": null,
   "id": "02f157b7",
   "metadata": {},
   "outputs": [],
   "source": [
    "import shutil\n",
    "import os\n",
    "\n",
    "# create script folder\n",
    "script_folder = './sample_projects/rai-adult-classification'\n",
    "if not os.path.exists(script_folder):\n",
    "    os.makedirs(script_folder)\n",
    "\n",
    "# Copy the sample script to script folder.\n",
    "shutil.copy('train.py', script_folder)\n",
    "\n",
    "# Create the explainer script that will run on the remote compute.\n",
    "script_file_name = script_folder + '/train.py'"
   ]
  },
  {
   "cell_type": "markdown",
   "id": "32efadcd",
   "metadata": {},
   "source": [
    "Submit the train script via `ScriptRunConfig` to train the model on remote compute."
   ]
  },
  {
   "cell_type": "code",
   "execution_count": null,
   "id": "6b241593",
   "metadata": {},
   "outputs": [],
   "source": [
    "# Now submit a run on AmlCompute for model explanations\n",
    "from azureml.core.script_run_config import ScriptRunConfig\n",
    "\n",
    "exp_name = \"RAI-Classification-Adult\"\n",
    "experiment = Experiment(user_workspace, exp_name)\n",
    "\n",
    "\n",
    "script_run_config = ScriptRunConfig(source_directory=script_folder,\n",
    "                                    script='train.py',\n",
    "                                    run_config=run_config)\n",
    "\n",
    "run = experiment.submit(script_run_config)\n",
    "\n",
    "# Show run details\n",
    "run"
   ]
  },
  {
   "cell_type": "markdown",
   "id": "cac49135",
   "metadata": {},
   "source": [
    "Wait for the above model training run to complete."
   ]
  },
  {
   "cell_type": "code",
   "execution_count": null,
   "id": "a25c6ef3",
   "metadata": {},
   "outputs": [],
   "source": [
    "run.wait_for_completion(raise_on_error=True, wait_post_processing=True)"
   ]
  },
  {
   "cell_type": "markdown",
   "id": "ef2bb6b0",
   "metadata": {},
   "source": [
    "# Generate RAI insights\n",
    "\n",
    "This section will walk you through the workflow to compute Responsible AI insights like model explanations, counterfactual examples, causal effects and error analysis using model analysis workflow on your remote compute for the model trained in the previous section."
   ]
  },
  {
   "cell_type": "markdown",
   "id": "c52b93e4",
   "metadata": {},
   "source": [
    "## Configure model analysis and submit RAI insight computation runs\n",
    "In this section, we will demonstrate how to configure model analysis, submit the model analysis run and submit the individual RAI computations for explanations, counterfactual examples, error analysis and causal effects for your trained model\n",
    "\n",
    "### Create ModelAnalysis configuration\n",
    "\n",
    "Create `ModelAnalysisConfig` for computing the RAI insights for the trained model. The `ModelAnalysisConfig` requires the following:-\n",
    "1. The registered model which was registered during the model training.\n",
    "2. The train and test datasets.\n",
    "3. `confidential_datastore_name`which is the name of the datastore where the analyses will be uploaded.\n",
    "4. List of the feature column names by dropping the name of the label column from the list of all column names.\n",
    "5. List of categorical features.\n",
    "6. Azureml run configuration whcih was setup in the previous section.\n"
   ]
  },
  {
   "cell_type": "code",
   "execution_count": null,
   "id": "4608db82",
   "metadata": {},
   "outputs": [],
   "source": [
    "from azureml.core import Model\n",
    "\n",
    "registered_model = Model.list(user_workspace, 'adult')[0]\n",
    "model_loader = PickleModelLoader('adult.pkl')\n",
    "\n",
    "train_dataset = Dataset.get_by_name(workspace=user_workspace, name='adult_train')\n",
    "test_dataset = Dataset.get_by_name(workspace=user_workspace, name='adult_test')\n",
    "\n",
    "ma = ModelAnalysisConfig(\n",
    "    title=\"RAI Classification\", # The name to assign to this model analysis\n",
    "    model=registered_model, # The register model in AzureML to analyse\n",
    "    model_type='classification', # Type of model it is, 'classification' or 'regression'\n",
    "    model_loader=model_loader, # The model loader module for loading the model. Specify 'mlflow' to load using mlflow.\n",
    "    train_dataset=train_dataset, # The training dataset to use for this analysis.\n",
    "    test_dataset=test_dataset, # The test dataset to use for this analysis.\n",
    "    X_column_names=feature_names, # The names of the columns in the train dataset.\n",
    "    target_column_name=label_name, # The name of the target column.\n",
    "    confidential_datastore_name=user_workspace.get_default_datastore().name, # The name of the confidential datastore where the analyses will be uploaded.\n",
    "    run_configuration=run_config, # The RunConfiguration specifying the compute on which this analysis will be computed.\n",
    "    categorical_column_names=categorical_features # List of all categorical columns in the dataset.\n",
    ")"
   ]
  },
  {
   "cell_type": "markdown",
   "id": "f6c0f210",
   "metadata": {},
   "source": [
    "### Submit model analysis run\n",
    "\n",
    "The model analysis run takes a snapshot of the data in preparation for model explanation, error analysis, causal and counterfactual.\n",
    "The model analysis run is the parent run for the model explanation, error analysis, causal and counterfactual runs."
   ]
  },
  {
   "cell_type": "code",
   "execution_count": null,
   "id": "b896b9aa",
   "metadata": {},
   "outputs": [],
   "source": [
    "model_analysis_run = experiment.submit(ma)\n",
    "model_analysis_run.wait_for_completion(raise_on_error=True,\n",
    "                                       wait_post_processing=True)\n",
    "model_analysis_run"
   ]
  },
  {
   "cell_type": "markdown",
   "id": "5bc2a389",
   "metadata": {},
   "source": [
    "### Submit run for explanations\n",
    "\n",
    "Run model explanation based on the model analysis.\n",
    "The explanation run is a child run of the model analysis run.\n",
    "In the future, the `add_request` method will allow extra parameters to configure the explanation generated."
   ]
  },
  {
   "cell_type": "code",
   "execution_count": null,
   "id": "6857eefd",
   "metadata": {},
   "outputs": [],
   "source": [
    "ec = ExplainConfig(model_analysis_run, run_config)\n",
    "ec.add_request(\n",
    "    comment=\"Compute Explanations\" # Comment to identify the explain configuration\n",
    ")\n",
    "explain_run = model_analysis_run.submit_child(ec)"
   ]
  },
  {
   "cell_type": "markdown",
   "id": "cfe30247",
   "metadata": {},
   "source": [
    "### Submit run for error analysis\n",
    "\n",
    "Run error analysis based on the model analysis.\n",
    "The error analysis run is a child run of the model analysis run."
   ]
  },
  {
   "cell_type": "code",
   "execution_count": null,
   "id": "92e24b04",
   "metadata": {},
   "outputs": [],
   "source": [
    "from azureml.responsibleai.tools.model_analysis.error_analysis_config import ErrorAnalysisConfig\n",
    "\n",
    "ec = ErrorAnalysisConfig(model_analysis_run, run_config)\n",
    "ec.add_request(\n",
    "    filter_features=['capital-gain', 'hours-per-week'], # One or two features to use for the matrix filter\n",
    "    max_depth=3, # The maximum depth of the error analysis tree\n",
    "    comment=\"Compute ErrorAnalysis\" # Comment to identify the error analysis configuration\n",
    ")\n",
    "error_analysis_run = model_analysis_run.submit_child(ec)"
   ]
  },
  {
   "cell_type": "markdown",
   "id": "ed25261f",
   "metadata": {},
   "source": [
    "### Submit run for counterfactual examples\n",
    "\n",
    "Generate counterfactuals for all the samples in the `test_dataset` based on the model analysis.\n",
    "The counterfactual run is a child run of the model analysis run.\n",
    "You may use the `add_request` method that allows you to specify extra parameters to configure the counterfactual examples to be generated."
   ]
  },
  {
   "cell_type": "code",
   "execution_count": null,
   "id": "ae0c81dc",
   "metadata": {},
   "outputs": [],
   "source": [
    "from azureml.responsibleai.tools.model_analysis.counterfactual_config import CounterfactualConfig\n",
    "\n",
    "cf_config = CounterfactualConfig(model_analysis_run, run_config)\n",
    "cf_config.add_request(\n",
    "    total_CFs=10, # Total number of counterfactuals required\n",
    ")\n",
    "cf_run = model_analysis_run.submit_child(cf_config)"
   ]
  },
  {
   "cell_type": "markdown",
   "id": "9e4314d5",
   "metadata": {},
   "source": [
    "### Submit run for causal effects\n",
    "\n",
    "Compute causal effects based on the model analysis.\n",
    "The causal run is a child run of the model analysis run.\n",
    "You may use the `add_request` method that allows you to specify extra parameters to configure the causal effects to be generated."
   ]
  },
  {
   "cell_type": "code",
   "execution_count": null,
   "id": "ac9865c1",
   "metadata": {},
   "outputs": [],
   "source": [
    "from azureml.responsibleai.tools.model_analysis.causal_config import CausalConfig\n",
    "\n",
    "causal_config = CausalConfig(model_analysis_run, run_config)\n",
    "causal_config.add_request(\n",
    "    treatment_features=['capital-gain', 'hours-per-week'], # Treatment feature names\n",
    "    nuisance_model='linear', # Model type to use for nuisance estimation\n",
    ")\n",
    "causal_run = model_analysis_run.submit_child(causal_config)"
   ]
  },
  {
   "cell_type": "markdown",
   "id": "25774d6b",
   "metadata": {},
   "source": [
    "## Download and inspect RAI insights\n",
    "In this section, we will demonstrate how to download the RAI insights computed in previous section and look at different aspects of your trained model.\n",
    "\n",
    "### Download explanations and view global feature importance\n",
    "Before downloading the explanations, make sure that the `explain_run` has completed.\n",
    "\n",
    "The `explanation_manager.list` method below returns a list of metadata dictionaries for each explain run.  In this case, there is a single explain run.  So, the list contains a single dictionary. \n",
    "\n",
    "You can then download the computed explanations using the `download_by_id` method in the `explanation_manager` and look at the feature importance."
   ]
  },
  {
   "cell_type": "code",
   "execution_count": null,
   "id": "f727ffbf",
   "metadata": {},
   "outputs": [],
   "source": [
    "explain_run.wait_for_completion(raise_on_error=True, wait_post_processing=True)\n",
    "explanations_meta = model_analysis_run.explanation_manager.list()\n",
    "explanation = model_analysis_run.explanation_manager.download_by_id(explanations_meta[0]['id'])"
   ]
  },
  {
   "cell_type": "code",
   "execution_count": null,
   "id": "2619ae7f",
   "metadata": {},
   "outputs": [],
   "source": [
    "explanation.get_feature_importance_dict()"
   ]
  },
  {
   "cell_type": "markdown",
   "id": "d2ae2b96",
   "metadata": {},
   "source": [
    "### Download error analysis report\n",
    "Before downloading the error analysis report, make sure that the `error_analysis_run` has completed.\n",
    "\n",
    "The `error_analysis_manager.list` method below returns a list of metadata dictionaries for each error analysis run.  In this case, there is a single error analysis run.  So, the list contains a single dictionary. \n",
    "\n",
    "You can then download the computed error analysis report using the `download_by_id` method in the `error_analysis_manager` and inspect the error analysis report."
   ]
  },
  {
   "cell_type": "code",
   "execution_count": null,
   "id": "c090c530",
   "metadata": {},
   "outputs": [],
   "source": [
    "error_analysis_run.wait_for_completion(raise_on_error=True, wait_post_processing=True)\n",
    "erroranalysis_meta = model_analysis_run.error_analysis_manager.list()\n",
    "erroranalysis_report = model_analysis_run.error_analysis_manager.download_by_id(erroranalysis_meta[0]['id'])"
   ]
  },
  {
   "cell_type": "markdown",
   "id": "fd6615c6",
   "metadata": {},
   "source": [
    "You can view the json tree and heatmap representations on the error analysis report directly, without the visualization widget or uploading it to AzureML"
   ]
  },
  {
   "cell_type": "code",
   "execution_count": null,
   "id": "2cbb72b6",
   "metadata": {},
   "outputs": [],
   "source": [
    "erroranalysis_report.tree"
   ]
  },
  {
   "cell_type": "markdown",
   "id": "fd59cfb6",
   "metadata": {},
   "source": [
    "### Download counterfactuals examples\n",
    "Before downloading the counterfactual examples, make sure that the `cf_run` has completed.\n",
    "\n",
    "The `counterfactual_manager.list` method below returns a list of metadata dictionaries for each counterfactual run.  In this case, there is a single counterfactual run.  So, the list contains a single dictionary.\n",
    "\n",
    "The `download_by_id()` method available in the `counterfactual_manager` can be used to download the counterfactual example.\n"
   ]
  },
  {
   "cell_type": "code",
   "execution_count": null,
   "id": "0b93ae73",
   "metadata": {},
   "outputs": [],
   "source": [
    "cf_run.wait_for_completion(raise_on_error=True, wait_post_processing=True)\n",
    "cf_meta = model_analysis_run.counterfactual_manager.list()\n",
    "cf_meta\n",
    "counterfactual_object = model_analysis_run.counterfactual_manager.download_by_id(cf_meta[0]['id'])"
   ]
  },
  {
   "cell_type": "markdown",
   "id": "93a8d0a6",
   "metadata": {},
   "source": [
    "You can use `visualize_as_dataframe()` method to view the generated counterfactual examples for the samples in `test_dataset`."
   ]
  },
  {
   "cell_type": "code",
   "execution_count": null,
   "id": "f7e68303",
   "metadata": {},
   "outputs": [],
   "source": [
    "counterfactual_object.visualize_as_dataframe()"
   ]
  },
  {
   "cell_type": "markdown",
   "id": "d7ac6fd9",
   "metadata": {},
   "source": [
    "You can use `summary_importance` property to see the feature importance which is computed when generating counterfactual examples. "
   ]
  },
  {
   "cell_type": "code",
   "execution_count": null,
   "id": "ea1d14ae",
   "metadata": {},
   "outputs": [],
   "source": [
    "counterfactual_object.summary_importance"
   ]
  },
  {
   "cell_type": "markdown",
   "id": "476b5f92",
   "metadata": {},
   "source": [
    "### Download causal effects\n",
    "Before downloading the causal effects, make sure that the `causal_run` has completed.\n",
    "\n",
    "The `causal_manager.list` method below returns a list of metadata dictionaries for each causal effects run.  In this case, there is a single causal effects run.  So, the list contains a single dictionary. \n",
    "\n",
    "You can then download the computed causal effects using the `download_by_id` method in the `causal_manager` and inspect the downloaded causal effects."
   ]
  },
  {
   "cell_type": "code",
   "execution_count": null,
   "id": "be418595",
   "metadata": {},
   "outputs": [],
   "source": [
    "causal_run.wait_for_completion(raise_on_error=True, wait_post_processing=True)\n",
    "causal_meta = model_analysis_run.causal_manager.list()\n",
    "causal_object = model_analysis_run.causal_manager.download_by_id(causal_meta[0]['id'])"
   ]
  },
  {
   "cell_type": "code",
   "execution_count": null,
   "id": "e8fef5ee",
   "metadata": {},
   "outputs": [],
   "source": [
    "causal_object['global_effects']"
   ]
  },
  {
   "cell_type": "markdown",
   "id": "0a9aed97",
   "metadata": {},
   "source": [
    "# Responsible AI dashboard\n",
    "The dashboard containing the responsible AI insights, which were computed in previous sections, can be found under the Models section in [AzureML studio](https://ml.azure.com/)."
   ]
  }
 ],
 "metadata": {
  "authors": [
   {
    "name": "gaugup"
   }
  ],
  "kernelspec": {
   "display_name": "Python 3.6",
   "language": "python",
   "name": "python36"
  },
  "language_info": {
   "codemirror_mode": {
    "name": "ipython",
    "version": 3
   },
   "file_extension": ".py",
   "mimetype": "text/x-python",
   "name": "python",
   "nbconvert_exporter": "python",
   "pygments_lexer": "ipython3",
   "version": "3.6.12"
  }
 },
 "nbformat": 4,
 "nbformat_minor": 5
}
